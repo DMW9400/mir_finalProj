{
 "cells": [
  {
   "cell_type": "markdown",
   "metadata": {},
   "source": [
    "# RANDOM FOREST and LOGISTIC REGRESSION"
   ]
  },
  {
   "cell_type": "code",
   "execution_count": 1,
   "metadata": {},
   "outputs": [],
   "source": [
    "# This two lines of code make your notebook aware of changes in\n",
    "# your file without needing to restart the session each time\n",
    "%load_ext autoreload\n",
    "%autoreload 2"
   ]
  },
  {
   "cell_type": "code",
   "execution_count": 49,
   "metadata": {},
   "outputs": [],
   "source": [
    "from random_forest_utils import random_forest\n",
    "from logistic_regression_utils import logistic_regression\n",
    "import mirdata\n",
    "import numpy as np"
   ]
  },
  {
   "cell_type": "code",
   "execution_count": 50,
   "metadata": {},
   "outputs": [],
   "source": []
  },
  {
   "cell_type": "code",
   "execution_count": 3,
   "metadata": {},
   "outputs": [
    {
     "name": "stdout",
     "output_type": "stream",
     "text": [
      "100\n"
     ]
    },
    {
     "data": {
      "text/plain": [
       "(array([0.12203979, 0.22442627, 0.19665527, ..., 0.0116272 , 0.03677368,\n",
       "        0.05535889], dtype=float32),\n",
       " 22050)"
      ]
     },
     "execution_count": 3,
     "metadata": {},
     "output_type": "execute_result"
    }
   ],
   "source": [
    "# data_home = 'data' # here the location you want the data to be in your Drive\n",
    "# dataset_name = 'gtzan_genre'\n",
    "# dataset = mirdata.initialize(dataset_name, data_home=data_home)\n",
    "# # dataset.download()\n",
    "# print(len(dataset.track_ids))\n",
    "# dataset.choice_track().audio\n",
    "\n",
    "\n",
    "\n",
    "# temp\n",
    "\n",
    "#data_home = '/home/ara/Documents/nyu_fa24_mir/mir_finalProj/data' # here the location you want the data to be in your Drive\n",
    "data_home = 'gtzan_mini'\n",
    "dataset_name = 'gtzan_genre'\n",
    "dataset_version = 'mini'\n",
    "dataset = mirdata.initialize(dataset_name, data_home=data_home, version=dataset_version)\n",
    "\n",
    "# Uncomment the following line and run the download code once to download the data\n",
    "# dataset.download()\n",
    "\n",
    "# Uncomment the following line and run the validate code to check the data is correct\n",
    "# dataset.validate()\n",
    "\n",
    "# Check how many tracks and load a random track\n",
    "print(len(dataset.track_ids))\n",
    "dataset.choice_track().audio"
   ]
  },
  {
   "cell_type": "code",
   "execution_count": 4,
   "metadata": {},
   "outputs": [
    {
     "name": "stdout",
     "output_type": "stream",
     "text": [
      "initializing random forest classifier\n",
      "initializing logistic regression classifier\n"
     ]
    }
   ],
   "source": [
    "# make obj\n",
    "rf = random_forest()\n",
    "lr = logistic_regression()"
   ]
  },
  {
   "cell_type": "code",
   "execution_count": 5,
   "metadata": {},
   "outputs": [
    {
     "name": "stdout",
     "output_type": "stream",
     "text": [
      "Track(\n",
      "  audio_path=\"gtzan_mini/gtzan_mini-main/genres/disco/disco.00008.wav\",\n",
      "  beats_path=\"gtzan_mini/gtzan_tempo_beat-main/beats/gtzan_disco_00008.beats\",\n",
      "  genre=\"disco\",\n",
      "  tempo_path=\"gtzan_mini/gtzan_tempo_beat-main/tempo/gtzan_disco_00008.bpm\",\n",
      "  track_id=\"disco.00008\",\n",
      "  audio: The track's audio\n",
      "\n",
      "        Returns,\n",
      "  beats: ,\n",
      "  tempo: ,\n",
      ")\n"
     ]
    }
   ],
   "source": [
    "print(dataset.choice_track())"
   ]
  },
  {
   "cell_type": "code",
   "execution_count": 63,
   "metadata": {},
   "outputs": [
    {
     "name": "stdout",
     "output_type": "stream",
     "text": [
      "['classical', 'classical', 'classical', 'classical', 'classical', 'classical', 'classical']\n",
      "['classical', 'classical', 'classical', 'classical', 'classical', 'classical', 'classical', 'classical', 'classical', 'classical']\n",
      "[]\n",
      "['country', 'country', 'country', 'country', 'country', 'country', 'country']\n",
      "['country', 'country', 'country', 'country', 'country', 'country', 'country', 'country', 'country', 'country']\n",
      "['classical' 'classical' 'classical' 'classical' 'classical' 'classical'\n",
      " 'classical']\n",
      "['disco', 'disco', 'disco', 'disco', 'disco', 'disco', 'disco']\n",
      "['disco', 'disco', 'disco', 'disco', 'disco', 'disco', 'disco', 'disco', 'disco', 'disco']\n",
      "['classical' 'classical' 'classical' 'classical' 'classical' 'classical'\n",
      " 'classical' 'country' 'country' 'country' 'country' 'country' 'country'\n",
      " 'country']\n",
      "['hip-hop', 'hip-hop', 'hip-hop', 'hip-hop', 'hip-hop', 'hip-hop', 'hip-hop']\n",
      "['hip-hop', 'hip-hop', 'hip-hop', 'hip-hop', 'hip-hop', 'hip-hop', 'hip-hop', 'hip-hop', 'hip-hop', 'hip-hop']\n",
      "['classical' 'classical' 'classical' 'classical' 'classical' 'classical'\n",
      " 'classical' 'country' 'country' 'country' 'country' 'country' 'country'\n",
      " 'country' 'disco' 'disco' 'disco' 'disco' 'disco' 'disco' 'disco']\n",
      "['jazz', 'jazz', 'jazz', 'jazz', 'jazz', 'jazz', 'jazz']\n",
      "['jazz', 'jazz', 'jazz', 'jazz', 'jazz', 'jazz', 'jazz', 'jazz', 'jazz', 'jazz']\n",
      "['classical' 'classical' 'classical' 'classical' 'classical' 'classical'\n",
      " 'classical' 'country' 'country' 'country' 'country' 'country' 'country'\n",
      " 'country' 'disco' 'disco' 'disco' 'disco' 'disco' 'disco' 'disco'\n",
      " 'hip-hop' 'hip-hop' 'hip-hop' 'hip-hop' 'hip-hop' 'hip-hop' 'hip-hop']\n",
      "['rock', 'rock', 'rock', 'rock', 'rock', 'rock', 'rock']\n",
      "['rock', 'rock', 'rock', 'rock', 'rock', 'rock', 'rock', 'rock', 'rock', 'rock']\n",
      "['classical' 'classical' 'classical' 'classical' 'classical' 'classical'\n",
      " 'classical' 'country' 'country' 'country' 'country' 'country' 'country'\n",
      " 'country' 'disco' 'disco' 'disco' 'disco' 'disco' 'disco' 'disco'\n",
      " 'hip-hop' 'hip-hop' 'hip-hop' 'hip-hop' 'hip-hop' 'hip-hop' 'hip-hop'\n",
      " 'jazz' 'jazz' 'jazz' 'jazz' 'jazz' 'jazz' 'jazz']\n",
      "['blues', 'blues', 'blues', 'blues', 'blues', 'blues', 'blues']\n",
      "['blues', 'blues', 'blues', 'blues', 'blues', 'blues', 'blues', 'blues', 'blues', 'blues']\n",
      "['classical' 'classical' 'classical' 'classical' 'classical' 'classical'\n",
      " 'classical' 'country' 'country' 'country' 'country' 'country' 'country'\n",
      " 'country' 'disco' 'disco' 'disco' 'disco' 'disco' 'disco' 'disco'\n",
      " 'hip-hop' 'hip-hop' 'hip-hop' 'hip-hop' 'hip-hop' 'hip-hop' 'hip-hop'\n",
      " 'jazz' 'jazz' 'jazz' 'jazz' 'jazz' 'jazz' 'jazz' 'rock' 'rock' 'rock'\n",
      " 'rock' 'rock' 'rock' 'rock']\n",
      "['reggae', 'reggae', 'reggae', 'reggae', 'reggae', 'reggae', 'reggae']\n",
      "['reggae', 'reggae', 'reggae', 'reggae', 'reggae', 'reggae', 'reggae', 'reggae', 'reggae', 'reggae']\n",
      "['classical' 'classical' 'classical' 'classical' 'classical' 'classical'\n",
      " 'classical' 'country' 'country' 'country' 'country' 'country' 'country'\n",
      " 'country' 'disco' 'disco' 'disco' 'disco' 'disco' 'disco' 'disco'\n",
      " 'hip-hop' 'hip-hop' 'hip-hop' 'hip-hop' 'hip-hop' 'hip-hop' 'hip-hop'\n",
      " 'jazz' 'jazz' 'jazz' 'jazz' 'jazz' 'jazz' 'jazz' 'rock' 'rock' 'rock'\n",
      " 'rock' 'rock' 'rock' 'rock' 'blues' 'blues' 'blues' 'blues' 'blues'\n",
      " 'blues' 'blues']\n",
      "['pop', 'pop', 'pop', 'pop', 'pop', 'pop', 'pop']\n",
      "['pop', 'pop', 'pop', 'pop', 'pop', 'pop', 'pop', 'pop', 'pop', 'pop']\n",
      "['classical' 'classical' 'classical' 'classical' 'classical' 'classical'\n",
      " 'classical' 'country' 'country' 'country' 'country' 'country' 'country'\n",
      " 'country' 'disco' 'disco' 'disco' 'disco' 'disco' 'disco' 'disco'\n",
      " 'hip-hop' 'hip-hop' 'hip-hop' 'hip-hop' 'hip-hop' 'hip-hop' 'hip-hop'\n",
      " 'jazz' 'jazz' 'jazz' 'jazz' 'jazz' 'jazz' 'jazz' 'rock' 'rock' 'rock'\n",
      " 'rock' 'rock' 'rock' 'rock' 'blues' 'blues' 'blues' 'blues' 'blues'\n",
      " 'blues' 'blues' 'reggae' 'reggae' 'reggae' 'reggae' 'reggae' 'reggae'\n",
      " 'reggae']\n",
      "['metal', 'metal', 'metal', 'metal', 'metal', 'metal', 'metal']\n",
      "['metal', 'metal', 'metal', 'metal', 'metal', 'metal', 'metal', 'metal', 'metal', 'metal']\n",
      "['classical' 'classical' 'classical' 'classical' 'classical' 'classical'\n",
      " 'classical' 'country' 'country' 'country' 'country' 'country' 'country'\n",
      " 'country' 'disco' 'disco' 'disco' 'disco' 'disco' 'disco' 'disco'\n",
      " 'hip-hop' 'hip-hop' 'hip-hop' 'hip-hop' 'hip-hop' 'hip-hop' 'hip-hop'\n",
      " 'jazz' 'jazz' 'jazz' 'jazz' 'jazz' 'jazz' 'jazz' 'rock' 'rock' 'rock'\n",
      " 'rock' 'rock' 'rock' 'rock' 'blues' 'blues' 'blues' 'blues' 'blues'\n",
      " 'blues' 'blues' 'reggae' 'reggae' 'reggae' 'reggae' 'reggae' 'reggae'\n",
      " 'reggae' 'pop' 'pop' 'pop' 'pop' 'pop' 'pop' 'pop']\n",
      "['classical', 'classical', 'classical', 'classical', 'classical', 'classical', 'classical']\n",
      "['classical', 'classical', 'classical', 'classical', 'classical', 'classical', 'classical', 'classical', 'classical', 'classical']\n",
      "[]\n",
      "['country', 'country', 'country', 'country', 'country', 'country', 'country']\n",
      "['country', 'country', 'country', 'country', 'country', 'country', 'country', 'country', 'country', 'country']\n",
      "['classical' 'classical' 'classical' 'classical' 'classical' 'classical'\n",
      " 'classical']\n",
      "['disco', 'disco', 'disco', 'disco', 'disco', 'disco', 'disco']\n",
      "['disco', 'disco', 'disco', 'disco', 'disco', 'disco', 'disco', 'disco', 'disco', 'disco']\n",
      "['classical' 'classical' 'classical' 'classical' 'classical' 'classical'\n",
      " 'classical' 'country' 'country' 'country' 'country' 'country' 'country'\n",
      " 'country']\n",
      "['hip-hop', 'hip-hop', 'hip-hop', 'hip-hop', 'hip-hop', 'hip-hop', 'hip-hop']\n",
      "['hip-hop', 'hip-hop', 'hip-hop', 'hip-hop', 'hip-hop', 'hip-hop', 'hip-hop', 'hip-hop', 'hip-hop', 'hip-hop']\n",
      "['classical' 'classical' 'classical' 'classical' 'classical' 'classical'\n",
      " 'classical' 'country' 'country' 'country' 'country' 'country' 'country'\n",
      " 'country' 'disco' 'disco' 'disco' 'disco' 'disco' 'disco' 'disco']\n",
      "['jazz', 'jazz', 'jazz', 'jazz', 'jazz', 'jazz', 'jazz']\n",
      "['jazz', 'jazz', 'jazz', 'jazz', 'jazz', 'jazz', 'jazz', 'jazz', 'jazz', 'jazz']\n",
      "['classical' 'classical' 'classical' 'classical' 'classical' 'classical'\n",
      " 'classical' 'country' 'country' 'country' 'country' 'country' 'country'\n",
      " 'country' 'disco' 'disco' 'disco' 'disco' 'disco' 'disco' 'disco'\n",
      " 'hip-hop' 'hip-hop' 'hip-hop' 'hip-hop' 'hip-hop' 'hip-hop' 'hip-hop']\n",
      "['rock', 'rock', 'rock', 'rock', 'rock', 'rock', 'rock']\n",
      "['rock', 'rock', 'rock', 'rock', 'rock', 'rock', 'rock', 'rock', 'rock', 'rock']\n",
      "['classical' 'classical' 'classical' 'classical' 'classical' 'classical'\n",
      " 'classical' 'country' 'country' 'country' 'country' 'country' 'country'\n",
      " 'country' 'disco' 'disco' 'disco' 'disco' 'disco' 'disco' 'disco'\n",
      " 'hip-hop' 'hip-hop' 'hip-hop' 'hip-hop' 'hip-hop' 'hip-hop' 'hip-hop'\n",
      " 'jazz' 'jazz' 'jazz' 'jazz' 'jazz' 'jazz' 'jazz']\n",
      "['blues', 'blues', 'blues', 'blues', 'blues', 'blues', 'blues']\n",
      "['blues', 'blues', 'blues', 'blues', 'blues', 'blues', 'blues', 'blues', 'blues', 'blues']\n",
      "['classical' 'classical' 'classical' 'classical' 'classical' 'classical'\n",
      " 'classical' 'country' 'country' 'country' 'country' 'country' 'country'\n",
      " 'country' 'disco' 'disco' 'disco' 'disco' 'disco' 'disco' 'disco'\n",
      " 'hip-hop' 'hip-hop' 'hip-hop' 'hip-hop' 'hip-hop' 'hip-hop' 'hip-hop'\n",
      " 'jazz' 'jazz' 'jazz' 'jazz' 'jazz' 'jazz' 'jazz' 'rock' 'rock' 'rock'\n",
      " 'rock' 'rock' 'rock' 'rock']\n",
      "['reggae', 'reggae', 'reggae', 'reggae', 'reggae', 'reggae', 'reggae']\n",
      "['reggae', 'reggae', 'reggae', 'reggae', 'reggae', 'reggae', 'reggae', 'reggae', 'reggae', 'reggae']\n",
      "['classical' 'classical' 'classical' 'classical' 'classical' 'classical'\n",
      " 'classical' 'country' 'country' 'country' 'country' 'country' 'country'\n",
      " 'country' 'disco' 'disco' 'disco' 'disco' 'disco' 'disco' 'disco'\n",
      " 'hip-hop' 'hip-hop' 'hip-hop' 'hip-hop' 'hip-hop' 'hip-hop' 'hip-hop'\n",
      " 'jazz' 'jazz' 'jazz' 'jazz' 'jazz' 'jazz' 'jazz' 'rock' 'rock' 'rock'\n",
      " 'rock' 'rock' 'rock' 'rock' 'blues' 'blues' 'blues' 'blues' 'blues'\n",
      " 'blues' 'blues']\n",
      "['pop', 'pop', 'pop', 'pop', 'pop', 'pop', 'pop']\n",
      "['pop', 'pop', 'pop', 'pop', 'pop', 'pop', 'pop', 'pop', 'pop', 'pop']\n",
      "['classical' 'classical' 'classical' 'classical' 'classical' 'classical'\n",
      " 'classical' 'country' 'country' 'country' 'country' 'country' 'country'\n",
      " 'country' 'disco' 'disco' 'disco' 'disco' 'disco' 'disco' 'disco'\n",
      " 'hip-hop' 'hip-hop' 'hip-hop' 'hip-hop' 'hip-hop' 'hip-hop' 'hip-hop'\n",
      " 'jazz' 'jazz' 'jazz' 'jazz' 'jazz' 'jazz' 'jazz' 'rock' 'rock' 'rock'\n",
      " 'rock' 'rock' 'rock' 'rock' 'blues' 'blues' 'blues' 'blues' 'blues'\n",
      " 'blues' 'blues' 'reggae' 'reggae' 'reggae' 'reggae' 'reggae' 'reggae'\n",
      " 'reggae']\n",
      "['metal', 'metal', 'metal', 'metal', 'metal', 'metal', 'metal']\n",
      "['metal', 'metal', 'metal', 'metal', 'metal', 'metal', 'metal', 'metal', 'metal', 'metal']\n",
      "['classical' 'classical' 'classical' 'classical' 'classical' 'classical'\n",
      " 'classical' 'country' 'country' 'country' 'country' 'country' 'country'\n",
      " 'country' 'disco' 'disco' 'disco' 'disco' 'disco' 'disco' 'disco'\n",
      " 'hip-hop' 'hip-hop' 'hip-hop' 'hip-hop' 'hip-hop' 'hip-hop' 'hip-hop'\n",
      " 'jazz' 'jazz' 'jazz' 'jazz' 'jazz' 'jazz' 'jazz' 'rock' 'rock' 'rock'\n",
      " 'rock' 'rock' 'rock' 'rock' 'blues' 'blues' 'blues' 'blues' 'blues'\n",
      " 'blues' 'blues' 'reggae' 'reggae' 'reggae' 'reggae' 'reggae' 'reggae'\n",
      " 'reggae' 'pop' 'pop' 'pop' 'pop' 'pop' 'pop' 'pop']\n"
     ]
    }
   ],
   "source": [
    "# split data\n",
    "tracks = dataset.load_tracks()\n",
    "ratio = .3\n",
    "rf_X_train, rf_X_test, rf_y_train, rf_y_test = rf.split_data(tracks, ratio)\n",
    "lr_X_train, lr_X_test, lr_y_train, lr_y_test = lr.split_data(tracks, ratio)"
   ]
  },
  {
   "cell_type": "code",
   "execution_count": 51,
   "metadata": {},
   "outputs": [],
   "source": [
    "# load pre-computed data\n",
    "import pickle\n",
    "from sklearn.model_selection import train_test_split\n",
    "with open('dataset.pkl', 'rb') as f:\n",
    "    df = pickle.load(f)\n",
    "\n",
    "X = np.array(df['features'].tolist())\n",
    "y = np.array(df['label'].tolist())\n",
    "\n",
    "X_train, X_test, y_train, y_test = train_test_split(X, y, test_size=.3)"
   ]
  },
  {
   "cell_type": "code",
   "execution_count": 7,
   "metadata": {},
   "outputs": [
    {
     "name": "stdout",
     "output_type": "stream",
     "text": [
      "Track(\n",
      "  audio_path=\"gtzan_mini/gtzan_mini-main/genres/blues/blues.00000.wav\",\n",
      "  beats_path=\"gtzan_mini/gtzan_tempo_beat-main/beats/gtzan_blues_00000.beats\",\n",
      "  genre=\"blues\",\n",
      "  tempo_path=\"gtzan_mini/gtzan_tempo_beat-main/tempo/gtzan_blues_00000.bpm\",\n",
      "  track_id=\"blues.00000\",\n",
      "  audio: The track's audio\n",
      "\n",
      "        Returns,\n",
      "  beats: ,\n",
      "  tempo: ,\n",
      ")\n"
     ]
    }
   ],
   "source": [
    "print(tracks['blues.00000'])"
   ]
  },
  {
   "cell_type": "code",
   "execution_count": 74,
   "metadata": {},
   "outputs": [],
   "source": [
    "# get classifier\n",
    "rf_model = rf.gen()\n",
    "lr_model = lr.gen()"
   ]
  },
  {
   "cell_type": "code",
   "execution_count": 76,
   "metadata": {},
   "outputs": [
    {
     "name": "stderr",
     "output_type": "stream",
     "text": [
      "/home/ara/Documents/nyu_fa24_mir/mir_finalProj/.venv/lib/python3.9/site-packages/sklearn/linear_model/_logistic.py:469: ConvergenceWarning: lbfgs failed to converge (status=1):\n",
      "STOP: TOTAL NO. of ITERATIONS REACHED LIMIT.\n",
      "\n",
      "Increase the number of iterations (max_iter) or scale the data as shown in:\n",
      "    https://scikit-learn.org/stable/modules/preprocessing.html\n",
      "Please also refer to the documentation for alternative solver options:\n",
      "    https://scikit-learn.org/stable/modules/linear_model.html#logistic-regression\n",
      "  n_iter_i = _check_optimize_result(\n"
     ]
    }
   ],
   "source": [
    "# fit\n",
    "import numpy as np\n",
    "rf.fit(X_train, y_train)\n",
    "lr.fit(X_train, y_train)"
   ]
  },
  {
   "cell_type": "code",
   "execution_count": 77,
   "metadata": {},
   "outputs": [],
   "source": [
    "# predict\n",
    "rf_y_pred = rf.pred(X_test)\n",
    "lr_y_pred = lr.pred(X_test)"
   ]
  },
  {
   "cell_type": "code",
   "execution_count": 78,
   "metadata": {},
   "outputs": [],
   "source": [
    "# eval\n",
    "rf_accuracy_score, rf_classification_report = rf.eval(y_test, rf_y_pred)\n",
    "lr_accuracy_score, lr_classification_report = lr.eval(y_test, lr_y_pred)"
   ]
  },
  {
   "cell_type": "code",
   "execution_count": 79,
   "metadata": {},
   "outputs": [
    {
     "name": "stdout",
     "output_type": "stream",
     "text": [
      "0.6633333333333333\n",
      "0.5533333333333333\n"
     ]
    }
   ],
   "source": [
    "print(rf_accuracy_score)\n",
    "print(lr_accuracy_score)"
   ]
  },
  {
   "cell_type": "code",
   "execution_count": 80,
   "metadata": {},
   "outputs": [
    {
     "name": "stdout",
     "output_type": "stream",
     "text": [
      "              precision    recall  f1-score   support\n",
      "\n",
      "       blues       0.69      0.69      0.69        32\n",
      "   classical       0.97      0.94      0.96        34\n",
      "     country       0.56      0.66      0.61        35\n",
      "       disco       0.62      0.42      0.50        36\n",
      "      hiphop       0.47      0.71      0.57        21\n",
      "        jazz       0.48      0.76      0.59        21\n",
      "       metal       0.92      1.00      0.96        22\n",
      "         pop       0.69      0.76      0.72        33\n",
      "      reggae       0.71      0.56      0.62        36\n",
      "        rock       0.53      0.30      0.38        30\n",
      "\n",
      "    accuracy                           0.66       300\n",
      "   macro avg       0.67      0.68      0.66       300\n",
      "weighted avg       0.67      0.66      0.66       300\n",
      "\n",
      "              precision    recall  f1-score   support\n",
      "\n",
      "       blues       0.45      0.72      0.55        32\n",
      "   classical       0.89      0.94      0.91        34\n",
      "     country       0.67      0.34      0.45        35\n",
      "       disco       0.56      0.28      0.37        36\n",
      "      hiphop       0.33      0.62      0.43        21\n",
      "        jazz       0.50      0.52      0.51        21\n",
      "       metal       0.71      0.77      0.74        22\n",
      "         pop       0.55      0.79      0.65        33\n",
      "      reggae       0.70      0.44      0.54        36\n",
      "        rock       0.27      0.20      0.23        30\n",
      "\n",
      "    accuracy                           0.55       300\n",
      "   macro avg       0.56      0.56      0.54       300\n",
      "weighted avg       0.58      0.55      0.54       300\n",
      "\n"
     ]
    }
   ],
   "source": [
    "print(rf_classification_report)\n",
    "print(lr_classification_report)"
   ]
  },
  {
   "cell_type": "code",
   "execution_count": 81,
   "metadata": {},
   "outputs": [
    {
     "data": {
      "image/png": "[encoded data removed]",
      "text/plain": [
       "<Figure size 640x480 with 2 Axes>"
      ]
     },
     "metadata": {},
     "output_type": "display_data"
    },
    {
     "data": {
      "image/png": "[encoded data removed]",
      "text/plain": [
       "<Figure size 640x480 with 2 Axes>"
      ]
     },
     "metadata": {},
     "output_type": "display_data"
    }
   ],
   "source": [
    "from sklearn.metrics import confusion_matrix, ConfusionMatrixDisplay\n",
    "import matplotlib.pyplot as plt \n",
    "\n",
    "\n",
    "rf_cm = confusion_matrix(y_test, rf_y_pred)\n",
    "lr_cm = confusion_matrix(y_test, lr_y_pred)\n",
    "\n",
    "rf_cmd = ConfusionMatrixDisplay(confusion_matrix=rf_cm)\n",
    "rf_cmd.plot()\n",
    "plt.show()\n",
    "\n",
    "lr_cmd = ConfusionMatrixDisplay(confusion_matrix=lr_cm)\n",
    "lr_cmd.plot()\n",
    "plt.show()"
   ]
  },
  {
   "cell_type": "code",
   "execution_count": null,
   "metadata": {},
   "outputs": [],
   "source": []
  }
 ],
 "metadata": {
  "kernelspec": {
   "display_name": ".venv",
   "language": "python",
   "name": "python3"
  },
  "language_info": {
   "codemirror_mode": {
    "name": "ipython",
    "version": 3
   },
   "file_extension": ".py",
   "mimetype": "text/x-python",
   "name": "python",
   "nbconvert_exporter": "python",
   "pygments_lexer": "ipython3",
   "version": "3.9.2"
  }
 },
 "nbformat": 4,
 "nbformat_minor": 2
}
