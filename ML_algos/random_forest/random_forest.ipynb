{
 "cells": [
  {
   "cell_type": "markdown",
   "metadata": {},
   "source": [
    "# RANDOM FOREST"
   ]
  },
  {
   "cell_type": "code",
   "execution_count": 1,
   "metadata": {},
   "outputs": [],
   "source": [
    "# This two lines of code make your notebook aware of changes in\n",
    "# your utils.py file without needing to restart the session each time\n",
    "%load_ext autoreload\n",
    "%autoreload 2"
   ]
  },
  {
   "cell_type": "code",
   "execution_count": 2,
   "metadata": {},
   "outputs": [],
   "source": [
    "import random_forest_utils as u\n",
    "import mirdata"
   ]
  },
  {
   "cell_type": "code",
   "execution_count": 4,
   "metadata": {},
   "outputs": [
    {
     "name": "stdout",
     "output_type": "stream",
     "text": [
      "100\n"
     ]
    },
    {
     "data": {
      "text/plain": [
       "(array([-0.01327515, -0.02557373, -0.02227783, ..., -0.03793335,\n",
       "        -0.03274536, -0.02944946], dtype=float32),\n",
       " 22050)"
      ]
     },
     "execution_count": 4,
     "metadata": {},
     "output_type": "execute_result"
    }
   ],
   "source": [
    "# data_home = 'data' # here the location you want the data to be in your Drive\n",
    "# dataset_name = 'gtzan_genre'\n",
    "# dataset = mirdata.initialize(dataset_name, data_home=data_home)\n",
    "# # dataset.download()\n",
    "# print(len(dataset.track_ids))\n",
    "# dataset.choice_track().audio\n",
    "\n",
    "\n",
    "\n",
    "# temp\n",
    "\n",
    "data_home = 'gtzan_mini' # here the location you want the data to be in your Drive\n",
    "dataset_name = 'gtzan_genre'\n",
    "dataset_version = 'mini'\n",
    "dataset = mirdata.initialize(dataset_name, data_home=data_home, version=dataset_version)\n",
    "\n",
    "# Uncomment the following line and run the download code once to download the data\n",
    "# dataset.download()\n",
    "\n",
    "# Uncomment the following line and run the validate code to check the data is correct\n",
    "# dataset.validate()\n",
    "\n",
    "# Check how many tracks and load a random track\n",
    "print(len(dataset.track_ids))\n",
    "dataset.choice_track().audio"
   ]
  },
  {
   "cell_type": "code",
   "execution_count": 22,
   "metadata": {},
   "outputs": [
    {
     "name": "stdout",
     "output_type": "stream",
     "text": [
      "blues\n"
     ]
    },
    {
     "ename": "ValueError",
     "evalue": "too many values to unpack (expected 4)",
     "output_type": "error",
     "traceback": [
      "\u001b[0;31m---------------------------------------------------------------------------\u001b[0m",
      "\u001b[0;31mValueError\u001b[0m                                Traceback (most recent call last)",
      "Cell \u001b[0;32mIn[22], line 6\u001b[0m\n\u001b[1;32m      4\u001b[0m genre_split \u001b[38;5;241m=\u001b[39m u\u001b[38;5;241m.\u001b[39mrf_genre_split(tracks)\n\u001b[1;32m      5\u001b[0m ratio \u001b[38;5;241m=\u001b[39m \u001b[38;5;241m8\u001b[39m\n\u001b[0;32m----> 6\u001b[0m X_train, y_train, X_test, y_test \u001b[38;5;241m=\u001b[39m u\u001b[38;5;241m.\u001b[39mrf_split_data(genre_split, ratio)\n",
      "\u001b[0;31mValueError\u001b[0m: too many values to unpack (expected 4)"
     ]
    }
   ],
   "source": [
    "# split data\n",
    "tracks = dataset.load_tracks()\n",
    "print(tracks['blues.00000'].genre)\n",
    "genre_split = u.rf_genre_split(tracks)\n",
    "ratio = 8\n",
    "X_train, X_test = u.rf_split_data(genre_split, ratio)"
   ]
  },
  {
   "cell_type": "code",
   "execution_count": null,
   "metadata": {},
   "outputs": [],
   "source": [
    "# get classifier\n",
    "rf = u.rf_gen()"
   ]
  }
 ],
 "metadata": {
  "kernelspec": {
   "display_name": ".venv",
   "language": "python",
   "name": "python3"
  },
  "language_info": {
   "codemirror_mode": {
    "name": "ipython",
    "version": 3
   },
   "file_extension": ".py",
   "mimetype": "text/x-python",
   "name": "python",
   "nbconvert_exporter": "python",
   "pygments_lexer": "ipython3",
   "version": "3.9.2"
  }
 },
 "nbformat": 4,
 "nbformat_minor": 2
}
